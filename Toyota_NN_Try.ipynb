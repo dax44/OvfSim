{
  "nbformat": 4,
  "nbformat_minor": 0,
  "metadata": {
    "colab": {
      "name": "Toyota NN Try.ipynb",
      "provenance": [],
      "include_colab_link": true
    },
    "kernelspec": {
      "name": "python3",
      "display_name": "Python 3"
    },
    "language_info": {
      "name": "python"
    }
  },
  "cells": [
    {
      "cell_type": "markdown",
      "metadata": {
        "id": "view-in-github",
        "colab_type": "text"
      },
      "source": [
        "<a href=\"https://colab.research.google.com/github/dax44/OvfSim/blob/main/Toyota_NN_Try.ipynb\" target=\"_parent\"><img src=\"https://colab.research.google.com/assets/colab-badge.svg\" alt=\"Open In Colab\"/></a>"
      ]
    },
    {
      "cell_type": "code",
      "execution_count": null,
      "metadata": {
        "id": "UZ3JwnJQG_t6"
      },
      "outputs": [],
      "source": [
        "import numpy as np\n",
        "import pandas as pd\n",
        "import tensorflow as tf\n",
        "from tensorflow.keras.layers import Dense, InputLayer\n",
        "import matplotlib.pyplot as plt\n",
        "import seaborn as sns\n",
        "sns.set()\n",
        "import random\n",
        "from sklearn.metrics import confusion_matrix\n",
        "import imblearn"
      ]
    },
    {
      "cell_type": "markdown",
      "source": [
        "# LOAD DATA"
      ],
      "metadata": {
        "id": "CqjI5HRjHmcv"
      }
    },
    {
      "cell_type": "code",
      "source": [
        "data_raw = pd.read_csv(\"/content/drive/MyDrive/Data/toyota_data.csv\")"
      ],
      "metadata": {
        "id": "_o5Xtd5PHj_I"
      },
      "execution_count": null,
      "outputs": []
    },
    {
      "cell_type": "code",
      "source": [
        "data_raw"
      ],
      "metadata": {
        "colab": {
          "base_uri": "https://localhost:8080/",
          "height": 500
        },
        "id": "8l4trcftHusJ",
        "outputId": "475e9a0a-30eb-4327-af07-4592aaf75951"
      },
      "execution_count": null,
      "outputs": [
        {
          "output_type": "execute_result",
          "data": {
            "text/plain": [
              "       Unnamed: 0  przplywo1cfg  przplywo2cfg  przplywo3cfg  przplywo4cfg  \\\n",
              "0               1           5.6           1.9           2.7           4.3   \n",
              "1               2           5.6           2.1           2.2           4.6   \n",
              "2               3           5.9           1.8           2.2           4.4   \n",
              "3               4           5.8           2.0           2.6           4.4   \n",
              "4               5           5.8           1.9           2.0           4.2   \n",
              "...           ...           ...           ...           ...           ...   \n",
              "38487       38488           6.0           1.9           2.1           4.1   \n",
              "38488       38489           6.0           1.9           1.8           4.0   \n",
              "38489       38490           5.8           2.1           1.9           4.1   \n",
              "38490       38491           6.1           2.0           2.0           4.2   \n",
              "38491       38492           6.1           2.0           1.8           4.0   \n",
              "\n",
              "       przplywo1cfd  tmprtrwc_in  tmpfd1_strt  tmpfd2_strt  tmpfd3_strt  ...  \\\n",
              "0               5.6           39          627        527.0          550  ...   \n",
              "1               5.1           40          617        518.0          539  ...   \n",
              "2               5.3           38          610        523.0          546  ...   \n",
              "3               5.8           39          626        529.0          552  ...   \n",
              "4               5.2           38          610        523.0          546  ...   \n",
              "...             ...          ...          ...          ...          ...  ...   \n",
              "38487           4.2           38          615        516.0          548  ...   \n",
              "38488           4.2           39          615        516.0          548  ...   \n",
              "38489           4.2           39          596        502.0          525  ...   \n",
              "38490           4.1           39          615        514.0          546  ...   \n",
              "38491           4.2           39          613        515.0          547  ...   \n",
              "\n",
              "       tfd3_tm_zpc  tfd4_tm_zpc  tfd5_tm_zpc  tfd6_tm_zpc  tfd7_tm_zpc  \\\n",
              "0              587          569          574          574          433   \n",
              "1              565          588          540          544          442   \n",
              "2              575          563          582          568          450   \n",
              "3              586          569          575          572          434   \n",
              "4              575          563          581          570          450   \n",
              "...            ...          ...          ...          ...          ...   \n",
              "38487          588          581          572          574          448   \n",
              "38488          586          581          572          573          449   \n",
              "38489          550          547          553          548          429   \n",
              "38490          585          579          572          573          447   \n",
              "38491          586          578          570          572          448   \n",
              "\n",
              "       tfd8_tm_zpc  tfg1_tm_zpc  tm_kc_zp  tm_kp_zp  klasa  \n",
              "0              509          413       687       699      1  \n",
              "1              478          408       688       700      1  \n",
              "2              506          414       686       699      1  \n",
              "3              509          414       687       699      1  \n",
              "4              508          415       687       699      1  \n",
              "...            ...          ...       ...       ...    ...  \n",
              "38487          390          414       688       700      0  \n",
              "38488          390          414       687       700      0  \n",
              "38489          409          406       687       717      0  \n",
              "38490          388          411       687       700      0  \n",
              "38491          390          415       688       700      0  \n",
              "\n",
              "[38492 rows x 30 columns]"
            ],
            "text/html": [
              "\n",
              "  <div id=\"df-5bb39000-091f-4fb3-b418-33a8c8cb7688\">\n",
              "    <div class=\"colab-df-container\">\n",
              "      <div>\n",
              "<style scoped>\n",
              "    .dataframe tbody tr th:only-of-type {\n",
              "        vertical-align: middle;\n",
              "    }\n",
              "\n",
              "    .dataframe tbody tr th {\n",
              "        vertical-align: top;\n",
              "    }\n",
              "\n",
              "    .dataframe thead th {\n",
              "        text-align: right;\n",
              "    }\n",
              "</style>\n",
              "<table border=\"1\" class=\"dataframe\">\n",
              "  <thead>\n",
              "    <tr style=\"text-align: right;\">\n",
              "      <th></th>\n",
              "      <th>Unnamed: 0</th>\n",
              "      <th>przplywo1cfg</th>\n",
              "      <th>przplywo2cfg</th>\n",
              "      <th>przplywo3cfg</th>\n",
              "      <th>przplywo4cfg</th>\n",
              "      <th>przplywo1cfd</th>\n",
              "      <th>tmprtrwc_in</th>\n",
              "      <th>tmpfd1_strt</th>\n",
              "      <th>tmpfd2_strt</th>\n",
              "      <th>tmpfd3_strt</th>\n",
              "      <th>...</th>\n",
              "      <th>tfd3_tm_zpc</th>\n",
              "      <th>tfd4_tm_zpc</th>\n",
              "      <th>tfd5_tm_zpc</th>\n",
              "      <th>tfd6_tm_zpc</th>\n",
              "      <th>tfd7_tm_zpc</th>\n",
              "      <th>tfd8_tm_zpc</th>\n",
              "      <th>tfg1_tm_zpc</th>\n",
              "      <th>tm_kc_zp</th>\n",
              "      <th>tm_kp_zp</th>\n",
              "      <th>klasa</th>\n",
              "    </tr>\n",
              "  </thead>\n",
              "  <tbody>\n",
              "    <tr>\n",
              "      <th>0</th>\n",
              "      <td>1</td>\n",
              "      <td>5.6</td>\n",
              "      <td>1.9</td>\n",
              "      <td>2.7</td>\n",
              "      <td>4.3</td>\n",
              "      <td>5.6</td>\n",
              "      <td>39</td>\n",
              "      <td>627</td>\n",
              "      <td>527.0</td>\n",
              "      <td>550</td>\n",
              "      <td>...</td>\n",
              "      <td>587</td>\n",
              "      <td>569</td>\n",
              "      <td>574</td>\n",
              "      <td>574</td>\n",
              "      <td>433</td>\n",
              "      <td>509</td>\n",
              "      <td>413</td>\n",
              "      <td>687</td>\n",
              "      <td>699</td>\n",
              "      <td>1</td>\n",
              "    </tr>\n",
              "    <tr>\n",
              "      <th>1</th>\n",
              "      <td>2</td>\n",
              "      <td>5.6</td>\n",
              "      <td>2.1</td>\n",
              "      <td>2.2</td>\n",
              "      <td>4.6</td>\n",
              "      <td>5.1</td>\n",
              "      <td>40</td>\n",
              "      <td>617</td>\n",
              "      <td>518.0</td>\n",
              "      <td>539</td>\n",
              "      <td>...</td>\n",
              "      <td>565</td>\n",
              "      <td>588</td>\n",
              "      <td>540</td>\n",
              "      <td>544</td>\n",
              "      <td>442</td>\n",
              "      <td>478</td>\n",
              "      <td>408</td>\n",
              "      <td>688</td>\n",
              "      <td>700</td>\n",
              "      <td>1</td>\n",
              "    </tr>\n",
              "    <tr>\n",
              "      <th>2</th>\n",
              "      <td>3</td>\n",
              "      <td>5.9</td>\n",
              "      <td>1.8</td>\n",
              "      <td>2.2</td>\n",
              "      <td>4.4</td>\n",
              "      <td>5.3</td>\n",
              "      <td>38</td>\n",
              "      <td>610</td>\n",
              "      <td>523.0</td>\n",
              "      <td>546</td>\n",
              "      <td>...</td>\n",
              "      <td>575</td>\n",
              "      <td>563</td>\n",
              "      <td>582</td>\n",
              "      <td>568</td>\n",
              "      <td>450</td>\n",
              "      <td>506</td>\n",
              "      <td>414</td>\n",
              "      <td>686</td>\n",
              "      <td>699</td>\n",
              "      <td>1</td>\n",
              "    </tr>\n",
              "    <tr>\n",
              "      <th>3</th>\n",
              "      <td>4</td>\n",
              "      <td>5.8</td>\n",
              "      <td>2.0</td>\n",
              "      <td>2.6</td>\n",
              "      <td>4.4</td>\n",
              "      <td>5.8</td>\n",
              "      <td>39</td>\n",
              "      <td>626</td>\n",
              "      <td>529.0</td>\n",
              "      <td>552</td>\n",
              "      <td>...</td>\n",
              "      <td>586</td>\n",
              "      <td>569</td>\n",
              "      <td>575</td>\n",
              "      <td>572</td>\n",
              "      <td>434</td>\n",
              "      <td>509</td>\n",
              "      <td>414</td>\n",
              "      <td>687</td>\n",
              "      <td>699</td>\n",
              "      <td>1</td>\n",
              "    </tr>\n",
              "    <tr>\n",
              "      <th>4</th>\n",
              "      <td>5</td>\n",
              "      <td>5.8</td>\n",
              "      <td>1.9</td>\n",
              "      <td>2.0</td>\n",
              "      <td>4.2</td>\n",
              "      <td>5.2</td>\n",
              "      <td>38</td>\n",
              "      <td>610</td>\n",
              "      <td>523.0</td>\n",
              "      <td>546</td>\n",
              "      <td>...</td>\n",
              "      <td>575</td>\n",
              "      <td>563</td>\n",
              "      <td>581</td>\n",
              "      <td>570</td>\n",
              "      <td>450</td>\n",
              "      <td>508</td>\n",
              "      <td>415</td>\n",
              "      <td>687</td>\n",
              "      <td>699</td>\n",
              "      <td>1</td>\n",
              "    </tr>\n",
              "    <tr>\n",
              "      <th>...</th>\n",
              "      <td>...</td>\n",
              "      <td>...</td>\n",
              "      <td>...</td>\n",
              "      <td>...</td>\n",
              "      <td>...</td>\n",
              "      <td>...</td>\n",
              "      <td>...</td>\n",
              "      <td>...</td>\n",
              "      <td>...</td>\n",
              "      <td>...</td>\n",
              "      <td>...</td>\n",
              "      <td>...</td>\n",
              "      <td>...</td>\n",
              "      <td>...</td>\n",
              "      <td>...</td>\n",
              "      <td>...</td>\n",
              "      <td>...</td>\n",
              "      <td>...</td>\n",
              "      <td>...</td>\n",
              "      <td>...</td>\n",
              "      <td>...</td>\n",
              "    </tr>\n",
              "    <tr>\n",
              "      <th>38487</th>\n",
              "      <td>38488</td>\n",
              "      <td>6.0</td>\n",
              "      <td>1.9</td>\n",
              "      <td>2.1</td>\n",
              "      <td>4.1</td>\n",
              "      <td>4.2</td>\n",
              "      <td>38</td>\n",
              "      <td>615</td>\n",
              "      <td>516.0</td>\n",
              "      <td>548</td>\n",
              "      <td>...</td>\n",
              "      <td>588</td>\n",
              "      <td>581</td>\n",
              "      <td>572</td>\n",
              "      <td>574</td>\n",
              "      <td>448</td>\n",
              "      <td>390</td>\n",
              "      <td>414</td>\n",
              "      <td>688</td>\n",
              "      <td>700</td>\n",
              "      <td>0</td>\n",
              "    </tr>\n",
              "    <tr>\n",
              "      <th>38488</th>\n",
              "      <td>38489</td>\n",
              "      <td>6.0</td>\n",
              "      <td>1.9</td>\n",
              "      <td>1.8</td>\n",
              "      <td>4.0</td>\n",
              "      <td>4.2</td>\n",
              "      <td>39</td>\n",
              "      <td>615</td>\n",
              "      <td>516.0</td>\n",
              "      <td>548</td>\n",
              "      <td>...</td>\n",
              "      <td>586</td>\n",
              "      <td>581</td>\n",
              "      <td>572</td>\n",
              "      <td>573</td>\n",
              "      <td>449</td>\n",
              "      <td>390</td>\n",
              "      <td>414</td>\n",
              "      <td>687</td>\n",
              "      <td>700</td>\n",
              "      <td>0</td>\n",
              "    </tr>\n",
              "    <tr>\n",
              "      <th>38489</th>\n",
              "      <td>38490</td>\n",
              "      <td>5.8</td>\n",
              "      <td>2.1</td>\n",
              "      <td>1.9</td>\n",
              "      <td>4.1</td>\n",
              "      <td>4.2</td>\n",
              "      <td>39</td>\n",
              "      <td>596</td>\n",
              "      <td>502.0</td>\n",
              "      <td>525</td>\n",
              "      <td>...</td>\n",
              "      <td>550</td>\n",
              "      <td>547</td>\n",
              "      <td>553</td>\n",
              "      <td>548</td>\n",
              "      <td>429</td>\n",
              "      <td>409</td>\n",
              "      <td>406</td>\n",
              "      <td>687</td>\n",
              "      <td>717</td>\n",
              "      <td>0</td>\n",
              "    </tr>\n",
              "    <tr>\n",
              "      <th>38490</th>\n",
              "      <td>38491</td>\n",
              "      <td>6.1</td>\n",
              "      <td>2.0</td>\n",
              "      <td>2.0</td>\n",
              "      <td>4.2</td>\n",
              "      <td>4.1</td>\n",
              "      <td>39</td>\n",
              "      <td>615</td>\n",
              "      <td>514.0</td>\n",
              "      <td>546</td>\n",
              "      <td>...</td>\n",
              "      <td>585</td>\n",
              "      <td>579</td>\n",
              "      <td>572</td>\n",
              "      <td>573</td>\n",
              "      <td>447</td>\n",
              "      <td>388</td>\n",
              "      <td>411</td>\n",
              "      <td>687</td>\n",
              "      <td>700</td>\n",
              "      <td>0</td>\n",
              "    </tr>\n",
              "    <tr>\n",
              "      <th>38491</th>\n",
              "      <td>38492</td>\n",
              "      <td>6.1</td>\n",
              "      <td>2.0</td>\n",
              "      <td>1.8</td>\n",
              "      <td>4.0</td>\n",
              "      <td>4.2</td>\n",
              "      <td>39</td>\n",
              "      <td>613</td>\n",
              "      <td>515.0</td>\n",
              "      <td>547</td>\n",
              "      <td>...</td>\n",
              "      <td>586</td>\n",
              "      <td>578</td>\n",
              "      <td>570</td>\n",
              "      <td>572</td>\n",
              "      <td>448</td>\n",
              "      <td>390</td>\n",
              "      <td>415</td>\n",
              "      <td>688</td>\n",
              "      <td>700</td>\n",
              "      <td>0</td>\n",
              "    </tr>\n",
              "  </tbody>\n",
              "</table>\n",
              "<p>38492 rows × 30 columns</p>\n",
              "</div>\n",
              "      <button class=\"colab-df-convert\" onclick=\"convertToInteractive('df-5bb39000-091f-4fb3-b418-33a8c8cb7688')\"\n",
              "              title=\"Convert this dataframe to an interactive table.\"\n",
              "              style=\"display:none;\">\n",
              "        \n",
              "  <svg xmlns=\"http://www.w3.org/2000/svg\" height=\"24px\"viewBox=\"0 0 24 24\"\n",
              "       width=\"24px\">\n",
              "    <path d=\"M0 0h24v24H0V0z\" fill=\"none\"/>\n",
              "    <path d=\"M18.56 5.44l.94 2.06.94-2.06 2.06-.94-2.06-.94-.94-2.06-.94 2.06-2.06.94zm-11 1L8.5 8.5l.94-2.06 2.06-.94-2.06-.94L8.5 2.5l-.94 2.06-2.06.94zm10 10l.94 2.06.94-2.06 2.06-.94-2.06-.94-.94-2.06-.94 2.06-2.06.94z\"/><path d=\"M17.41 7.96l-1.37-1.37c-.4-.4-.92-.59-1.43-.59-.52 0-1.04.2-1.43.59L10.3 9.45l-7.72 7.72c-.78.78-.78 2.05 0 2.83L4 21.41c.39.39.9.59 1.41.59.51 0 1.02-.2 1.41-.59l7.78-7.78 2.81-2.81c.8-.78.8-2.07 0-2.86zM5.41 20L4 18.59l7.72-7.72 1.47 1.35L5.41 20z\"/>\n",
              "  </svg>\n",
              "      </button>\n",
              "      \n",
              "  <style>\n",
              "    .colab-df-container {\n",
              "      display:flex;\n",
              "      flex-wrap:wrap;\n",
              "      gap: 12px;\n",
              "    }\n",
              "\n",
              "    .colab-df-convert {\n",
              "      background-color: #E8F0FE;\n",
              "      border: none;\n",
              "      border-radius: 50%;\n",
              "      cursor: pointer;\n",
              "      display: none;\n",
              "      fill: #1967D2;\n",
              "      height: 32px;\n",
              "      padding: 0 0 0 0;\n",
              "      width: 32px;\n",
              "    }\n",
              "\n",
              "    .colab-df-convert:hover {\n",
              "      background-color: #E2EBFA;\n",
              "      box-shadow: 0px 1px 2px rgba(60, 64, 67, 0.3), 0px 1px 3px 1px rgba(60, 64, 67, 0.15);\n",
              "      fill: #174EA6;\n",
              "    }\n",
              "\n",
              "    [theme=dark] .colab-df-convert {\n",
              "      background-color: #3B4455;\n",
              "      fill: #D2E3FC;\n",
              "    }\n",
              "\n",
              "    [theme=dark] .colab-df-convert:hover {\n",
              "      background-color: #434B5C;\n",
              "      box-shadow: 0px 1px 3px 1px rgba(0, 0, 0, 0.15);\n",
              "      filter: drop-shadow(0px 1px 2px rgba(0, 0, 0, 0.3));\n",
              "      fill: #FFFFFF;\n",
              "    }\n",
              "  </style>\n",
              "\n",
              "      <script>\n",
              "        const buttonEl =\n",
              "          document.querySelector('#df-5bb39000-091f-4fb3-b418-33a8c8cb7688 button.colab-df-convert');\n",
              "        buttonEl.style.display =\n",
              "          google.colab.kernel.accessAllowed ? 'block' : 'none';\n",
              "\n",
              "        async function convertToInteractive(key) {\n",
              "          const element = document.querySelector('#df-5bb39000-091f-4fb3-b418-33a8c8cb7688');\n",
              "          const dataTable =\n",
              "            await google.colab.kernel.invokeFunction('convertToInteractive',\n",
              "                                                     [key], {});\n",
              "          if (!dataTable) return;\n",
              "\n",
              "          const docLinkHtml = 'Like what you see? Visit the ' +\n",
              "            '<a target=\"_blank\" href=https://colab.research.google.com/notebooks/data_table.ipynb>data table notebook</a>'\n",
              "            + ' to learn more about interactive tables.';\n",
              "          element.innerHTML = '';\n",
              "          dataTable['output_type'] = 'display_data';\n",
              "          await google.colab.output.renderOutput(dataTable, element);\n",
              "          const docLink = document.createElement('div');\n",
              "          docLink.innerHTML = docLinkHtml;\n",
              "          element.appendChild(docLink);\n",
              "        }\n",
              "      </script>\n",
              "    </div>\n",
              "  </div>\n",
              "  "
            ]
          },
          "metadata": {},
          "execution_count": 3
        }
      ]
    },
    {
      "cell_type": "code",
      "source": [
        "# Clear NANs\n",
        "data = data_raw.dropna()"
      ],
      "metadata": {
        "id": "UdMU9ocgP6bs"
      },
      "execution_count": null,
      "outputs": []
    },
    {
      "cell_type": "code",
      "source": [
        "# Extract X and Y\n",
        "Y = data[\"klasa\"].to_numpy()\n",
        "\n",
        "X = data.drop([\"Unnamed: 0\", \"klasa\"], axis=1).to_numpy()"
      ],
      "metadata": {
        "id": "cNo7qKm6HwYV"
      },
      "execution_count": null,
      "outputs": []
    },
    {
      "cell_type": "code",
      "source": [
        "# Train-test split\n",
        "from sklearn.model_selection import train_test_split\n",
        "\n",
        "X_train, X_test, Y_train, Y_test = train_test_split(X, Y, test_size=0.2, random_state=42)"
      ],
      "metadata": {
        "id": "3fNqQORxIsVO"
      },
      "execution_count": null,
      "outputs": []
    },
    {
      "cell_type": "code",
      "source": [
        "print(\"TRAIN:\", pd.Series(Y_train).value_counts())\n",
        "print(\"TEST:\", pd.Series(Y_test).value_counts())"
      ],
      "metadata": {
        "colab": {
          "base_uri": "https://localhost:8080/"
        },
        "id": "A54nqPQBJNbh",
        "outputId": "4b2b7d96-c810-4b78-bab7-a0204a288e17"
      },
      "execution_count": null,
      "outputs": [
        {
          "output_type": "stream",
          "name": "stdout",
          "text": [
            "TRAIN: 1    29564\n",
            "0     1228\n",
            "dtype: int64\n",
            "TEST: 1    7398\n",
            "0     301\n",
            "dtype: int64\n"
          ]
        }
      ]
    },
    {
      "cell_type": "code",
      "source": [
        "X_train.shape"
      ],
      "metadata": {
        "colab": {
          "base_uri": "https://localhost:8080/"
        },
        "id": "kFTeL--GM_oy",
        "outputId": "b8fc969f-15bd-4006-8ecc-0bbdbe725844"
      },
      "execution_count": null,
      "outputs": [
        {
          "output_type": "execute_result",
          "data": {
            "text/plain": [
              "(24633, 28)"
            ]
          },
          "metadata": {},
          "execution_count": 90
        }
      ]
    },
    {
      "cell_type": "markdown",
      "source": [
        "### Skalowanie danych\n",
        "Standaryzacja lub MinMaxScaling - zobaczymy jak będzie to szło w sieci"
      ],
      "metadata": {
        "id": "HuPrGv8tIZvd"
      }
    },
    {
      "cell_type": "code",
      "source": [
        "from sklearn.preprocessing import StandardScaler, MinMaxScaler\n",
        "\n",
        "#scaler = MinMaxScaler()\n",
        "scaler = StandardScaler()\n",
        "\n",
        "X_train_scaled = scaler.fit_transform(X_train)\n",
        "X_test_scaled = scaler.transform(X_test)\n",
        "\n"
      ],
      "metadata": {
        "id": "PGXIqfx3ICk9"
      },
      "execution_count": null,
      "outputs": []
    },
    {
      "cell_type": "markdown",
      "source": [
        "### Balansowanie danych\n",
        "Ewentualny zabieg mający na celu wyrównanie mniej więcej próby uczącej"
      ],
      "metadata": {
        "id": "AdKwLomoL862"
      }
    },
    {
      "cell_type": "code",
      "source": [
        "bad_records_num = len(Y_train) - Y_train.sum()\n",
        "\n",
        "# Select indices of all bad records\n",
        "bad_ind = np.where(Y_train == 0)[0]\n",
        "\n",
        "# Indices of ok\n",
        "ok_ind = np.where(Y_train == 1)[0]\n",
        "\n",
        "# Sample from it\n",
        "ok_ind_sample = np.array(random.sample(ok_ind.tolist(), 3*bad_records_num))\n",
        "\n",
        "# Add two sets together\n",
        "stripped_set_ind = np.concatenate((bad_ind, ok_ind_sample))"
      ],
      "metadata": {
        "id": "kj8GDim3L8J6"
      },
      "execution_count": null,
      "outputs": []
    },
    {
      "cell_type": "code",
      "source": [
        "# Make stripped sets\n",
        "X_train_scaled_strip = X_train[stripped_set_ind]\n",
        "Y_train_strip = Y_train[stripped_set_ind]"
      ],
      "metadata": {
        "id": "f00vShvzTrx6"
      },
      "execution_count": null,
      "outputs": []
    },
    {
      "cell_type": "code",
      "source": [
        "# Odwrócenie Y 0 -> 1, 1 -> 0\n",
        "#Y_train = np.abs(Y_train - 1)\n",
        "#Y_val = np.abs(Y_val - 1)"
      ],
      "metadata": {
        "id": "6-VcAjfFIV9t"
      },
      "execution_count": null,
      "outputs": []
    },
    {
      "cell_type": "code",
      "source": [
        "pd.Series(Y_train_strip).value_counts()"
      ],
      "metadata": {
        "colab": {
          "base_uri": "https://localhost:8080/"
        },
        "id": "cDQRO9GqUsUM",
        "outputId": "c742a69e-4ee9-4abf-e249-ad4a89bcbaa9"
      },
      "execution_count": null,
      "outputs": [
        {
          "output_type": "execute_result",
          "data": {
            "text/plain": [
              "1    3684\n",
              "0    1228\n",
              "dtype: int64"
            ]
          },
          "metadata": {},
          "execution_count": 98
        }
      ]
    },
    {
      "cell_type": "markdown",
      "source": [
        "Dorobienie 0 za pomocą SMOTE"
      ],
      "metadata": {
        "id": "Pu4ND6CollSD"
      }
    },
    {
      "cell_type": "code",
      "source": [
        "oversample = imblearn.over_sampling.SMOTE()\n",
        "\n",
        "X_train_scaled, Y_train_scaled = "
      ],
      "metadata": {
        "id": "CcDbB11hloaz"
      },
      "execution_count": null,
      "outputs": []
    },
    {
      "cell_type": "markdown",
      "source": [
        "# Sieć neuronowa"
      ],
      "metadata": {
        "id": "_gE1rYGgMcXz"
      }
    },
    {
      "cell_type": "code",
      "source": [
        "model = tf.keras.Sequential()\n",
        "\n",
        "model.add(InputLayer(input_shape=(X_train.shape[1],)))\n",
        "model.add(tf.keras.layers.BatchNormalization())\n",
        "model.add(Dense(28, activation='relu'))\n",
        "model.add(Dense(16, activation='relu'))\n",
        "model.add(Dense(16, activation='relu'))\n",
        "model.add(tf.keras.layers.Dropout(0.3))\n",
        "#model.add(Dense(8, activation='relu'))\n",
        "model.add(Dense(1, activation='sigmoid'))\n",
        "\n",
        "model.compile(optimizer=tf.keras.optimizers.Adam(learning_rate=0.001), \n",
        "              loss='binary_crossentropy', \n",
        "              metrics=['accuracy'])\n",
        "\n",
        "model.summary()"
      ],
      "metadata": {
        "colab": {
          "base_uri": "https://localhost:8080/"
        },
        "id": "WrDIGPYsMeBT",
        "outputId": "d62c19b9-a3b0-4037-c3a2-b9de075ef166"
      },
      "execution_count": null,
      "outputs": [
        {
          "output_type": "stream",
          "name": "stdout",
          "text": [
            "Model: \"sequential_7\"\n",
            "_________________________________________________________________\n",
            " Layer (type)                Output Shape              Param #   \n",
            "=================================================================\n",
            " batch_normalization_7 (Batc  (None, 28)               112       \n",
            " hNormalization)                                                 \n",
            "                                                                 \n",
            " dense_23 (Dense)            (None, 28)                812       \n",
            "                                                                 \n",
            " dense_24 (Dense)            (None, 16)                464       \n",
            "                                                                 \n",
            " dense_25 (Dense)            (None, 16)                272       \n",
            "                                                                 \n",
            " dropout_4 (Dropout)         (None, 16)                0         \n",
            "                                                                 \n",
            " dense_26 (Dense)            (None, 1)                 17        \n",
            "                                                                 \n",
            "=================================================================\n",
            "Total params: 1,677\n",
            "Trainable params: 1,621\n",
            "Non-trainable params: 56\n",
            "_________________________________________________________________\n"
          ]
        }
      ]
    },
    {
      "cell_type": "code",
      "source": [
        "r = model.fit(x=X_train_scaled_strip,\n",
        "          y=Y_train_strip,\n",
        "          batch_size=32,\n",
        "          epochs=70,\n",
        "          validation_split=0.3,\n",
        "          shuffle=True)"
      ],
      "metadata": {
        "colab": {
          "base_uri": "https://localhost:8080/"
        },
        "id": "SeNAk5nhMyij",
        "outputId": "3efb7066-e0a5-4094-f422-fc28b979baa2"
      },
      "execution_count": null,
      "outputs": [
        {
          "output_type": "stream",
          "name": "stdout",
          "text": [
            "Epoch 1/70\n",
            "108/108 [==============================] - 1s 5ms/step - loss: 0.6232 - accuracy: 0.6131 - val_loss: 8.5916 - val_accuracy: 0.0000e+00\n",
            "Epoch 2/70\n",
            "108/108 [==============================] - 0s 3ms/step - loss: 0.4795 - accuracy: 0.7385 - val_loss: 14.6929 - val_accuracy: 0.0000e+00\n",
            "Epoch 3/70\n",
            "108/108 [==============================] - 0s 4ms/step - loss: 0.4148 - accuracy: 0.7656 - val_loss: 4.9273 - val_accuracy: 0.0909\n",
            "Epoch 4/70\n",
            "108/108 [==============================] - 0s 3ms/step - loss: 0.3869 - accuracy: 0.7900 - val_loss: 1.2823 - val_accuracy: 0.5353\n",
            "Epoch 5/70\n",
            "108/108 [==============================] - 0s 3ms/step - loss: 0.3753 - accuracy: 0.7999 - val_loss: 0.4439 - val_accuracy: 0.6995\n",
            "Epoch 6/70\n",
            "108/108 [==============================] - 0s 3ms/step - loss: 0.3635 - accuracy: 0.8104 - val_loss: 0.3106 - val_accuracy: 0.8379\n",
            "Epoch 7/70\n",
            "108/108 [==============================] - 0s 3ms/step - loss: 0.3593 - accuracy: 0.8162 - val_loss: 0.2537 - val_accuracy: 0.9023\n",
            "Epoch 8/70\n",
            "108/108 [==============================] - 0s 3ms/step - loss: 0.3555 - accuracy: 0.8173 - val_loss: 0.2712 - val_accuracy: 0.8915\n",
            "Epoch 9/70\n",
            "108/108 [==============================] - 0s 3ms/step - loss: 0.3543 - accuracy: 0.8202 - val_loss: 0.2616 - val_accuracy: 0.8982\n",
            "Epoch 10/70\n",
            "108/108 [==============================] - 0s 3ms/step - loss: 0.3432 - accuracy: 0.8214 - val_loss: 0.2581 - val_accuracy: 0.8962\n",
            "Epoch 11/70\n",
            "108/108 [==============================] - 0s 3ms/step - loss: 0.3415 - accuracy: 0.8296 - val_loss: 0.2596 - val_accuracy: 0.8989\n",
            "Epoch 12/70\n",
            "108/108 [==============================] - 0s 3ms/step - loss: 0.3347 - accuracy: 0.8328 - val_loss: 0.2602 - val_accuracy: 0.8989\n",
            "Epoch 13/70\n",
            "108/108 [==============================] - 0s 3ms/step - loss: 0.3302 - accuracy: 0.8374 - val_loss: 0.2386 - val_accuracy: 0.9023\n",
            "Epoch 14/70\n",
            "108/108 [==============================] - 0s 3ms/step - loss: 0.3247 - accuracy: 0.8360 - val_loss: 0.2399 - val_accuracy: 0.9003\n",
            "Epoch 15/70\n",
            "108/108 [==============================] - 0s 3ms/step - loss: 0.3238 - accuracy: 0.8426 - val_loss: 0.2506 - val_accuracy: 0.8908\n",
            "Epoch 16/70\n",
            "108/108 [==============================] - 0s 3ms/step - loss: 0.3213 - accuracy: 0.8479 - val_loss: 0.2645 - val_accuracy: 0.8820\n",
            "Epoch 17/70\n",
            "108/108 [==============================] - 0s 3ms/step - loss: 0.3241 - accuracy: 0.8450 - val_loss: 0.2590 - val_accuracy: 0.8853\n",
            "Epoch 18/70\n",
            "108/108 [==============================] - 0s 3ms/step - loss: 0.3148 - accuracy: 0.8517 - val_loss: 0.2512 - val_accuracy: 0.8915\n",
            "Epoch 19/70\n",
            "108/108 [==============================] - 0s 4ms/step - loss: 0.3160 - accuracy: 0.8438 - val_loss: 0.2565 - val_accuracy: 0.8881\n",
            "Epoch 20/70\n",
            "108/108 [==============================] - 0s 3ms/step - loss: 0.3107 - accuracy: 0.8479 - val_loss: 0.2400 - val_accuracy: 0.8935\n",
            "Epoch 21/70\n",
            "108/108 [==============================] - 0s 3ms/step - loss: 0.2972 - accuracy: 0.8546 - val_loss: 0.2074 - val_accuracy: 0.9104\n",
            "Epoch 22/70\n",
            "108/108 [==============================] - 0s 3ms/step - loss: 0.3124 - accuracy: 0.8511 - val_loss: 0.2148 - val_accuracy: 0.9071\n",
            "Epoch 23/70\n",
            "108/108 [==============================] - 0s 3ms/step - loss: 0.3057 - accuracy: 0.8502 - val_loss: 0.2490 - val_accuracy: 0.8840\n",
            "Epoch 24/70\n",
            "108/108 [==============================] - 0s 3ms/step - loss: 0.3011 - accuracy: 0.8514 - val_loss: 0.2363 - val_accuracy: 0.8948\n",
            "Epoch 25/70\n",
            "108/108 [==============================] - 0s 3ms/step - loss: 0.3037 - accuracy: 0.8502 - val_loss: 0.2578 - val_accuracy: 0.8779\n",
            "Epoch 26/70\n",
            "108/108 [==============================] - 0s 3ms/step - loss: 0.3013 - accuracy: 0.8575 - val_loss: 0.2277 - val_accuracy: 0.9030\n",
            "Epoch 27/70\n",
            "108/108 [==============================] - 0s 3ms/step - loss: 0.2993 - accuracy: 0.8537 - val_loss: 0.2568 - val_accuracy: 0.8792\n",
            "Epoch 28/70\n",
            "108/108 [==============================] - 0s 3ms/step - loss: 0.2901 - accuracy: 0.8595 - val_loss: 0.2460 - val_accuracy: 0.8894\n",
            "Epoch 29/70\n",
            "108/108 [==============================] - 0s 3ms/step - loss: 0.2936 - accuracy: 0.8586 - val_loss: 0.2321 - val_accuracy: 0.8962\n",
            "Epoch 30/70\n",
            "108/108 [==============================] - 0s 3ms/step - loss: 0.2943 - accuracy: 0.8595 - val_loss: 0.2078 - val_accuracy: 0.9104\n",
            "Epoch 31/70\n",
            "108/108 [==============================] - 0s 3ms/step - loss: 0.2941 - accuracy: 0.8583 - val_loss: 0.2804 - val_accuracy: 0.8616\n",
            "Epoch 32/70\n",
            "108/108 [==============================] - 0s 3ms/step - loss: 0.2899 - accuracy: 0.8615 - val_loss: 0.2441 - val_accuracy: 0.8840\n",
            "Epoch 33/70\n",
            "108/108 [==============================] - 0s 3ms/step - loss: 0.2945 - accuracy: 0.8592 - val_loss: 0.2302 - val_accuracy: 0.8935\n",
            "Epoch 34/70\n",
            "108/108 [==============================] - 0s 3ms/step - loss: 0.2931 - accuracy: 0.8621 - val_loss: 0.2375 - val_accuracy: 0.8955\n",
            "Epoch 35/70\n",
            "108/108 [==============================] - 0s 3ms/step - loss: 0.2915 - accuracy: 0.8627 - val_loss: 0.2505 - val_accuracy: 0.8840\n",
            "Epoch 36/70\n",
            "108/108 [==============================] - 0s 3ms/step - loss: 0.2902 - accuracy: 0.8604 - val_loss: 0.2535 - val_accuracy: 0.8860\n",
            "Epoch 37/70\n",
            "108/108 [==============================] - 0s 3ms/step - loss: 0.2867 - accuracy: 0.8662 - val_loss: 0.2139 - val_accuracy: 0.9037\n",
            "Epoch 38/70\n",
            "108/108 [==============================] - 0s 3ms/step - loss: 0.2930 - accuracy: 0.8546 - val_loss: 0.2177 - val_accuracy: 0.9091\n",
            "Epoch 39/70\n",
            "108/108 [==============================] - 0s 3ms/step - loss: 0.2851 - accuracy: 0.8671 - val_loss: 0.2287 - val_accuracy: 0.8969\n",
            "Epoch 40/70\n",
            "108/108 [==============================] - 0s 3ms/step - loss: 0.2830 - accuracy: 0.8624 - val_loss: 0.2844 - val_accuracy: 0.8616\n",
            "Epoch 41/70\n",
            "108/108 [==============================] - 0s 3ms/step - loss: 0.2862 - accuracy: 0.8607 - val_loss: 0.2796 - val_accuracy: 0.8738\n",
            "Epoch 42/70\n",
            "108/108 [==============================] - 0s 3ms/step - loss: 0.2870 - accuracy: 0.8668 - val_loss: 0.2518 - val_accuracy: 0.8860\n",
            "Epoch 43/70\n",
            "108/108 [==============================] - 0s 3ms/step - loss: 0.2824 - accuracy: 0.8685 - val_loss: 0.2399 - val_accuracy: 0.8881\n",
            "Epoch 44/70\n",
            "108/108 [==============================] - 0s 3ms/step - loss: 0.2844 - accuracy: 0.8618 - val_loss: 0.2147 - val_accuracy: 0.9057\n",
            "Epoch 45/70\n",
            "108/108 [==============================] - 0s 3ms/step - loss: 0.2843 - accuracy: 0.8645 - val_loss: 0.2383 - val_accuracy: 0.8901\n",
            "Epoch 46/70\n",
            "108/108 [==============================] - 0s 3ms/step - loss: 0.2788 - accuracy: 0.8700 - val_loss: 0.2236 - val_accuracy: 0.9043\n",
            "Epoch 47/70\n",
            "108/108 [==============================] - 0s 3ms/step - loss: 0.2793 - accuracy: 0.8671 - val_loss: 0.2217 - val_accuracy: 0.9030\n",
            "Epoch 48/70\n",
            "108/108 [==============================] - 0s 3ms/step - loss: 0.2789 - accuracy: 0.8613 - val_loss: 0.2099 - val_accuracy: 0.9111\n",
            "Epoch 49/70\n",
            "108/108 [==============================] - 0s 3ms/step - loss: 0.2871 - accuracy: 0.8627 - val_loss: 0.2644 - val_accuracy: 0.8758\n",
            "Epoch 50/70\n",
            "108/108 [==============================] - 0s 3ms/step - loss: 0.2853 - accuracy: 0.8665 - val_loss: 0.2478 - val_accuracy: 0.8867\n",
            "Epoch 51/70\n",
            "108/108 [==============================] - 0s 3ms/step - loss: 0.2806 - accuracy: 0.8706 - val_loss: 0.2583 - val_accuracy: 0.8820\n",
            "Epoch 52/70\n",
            "108/108 [==============================] - 0s 3ms/step - loss: 0.2822 - accuracy: 0.8601 - val_loss: 0.2619 - val_accuracy: 0.8820\n",
            "Epoch 53/70\n",
            "108/108 [==============================] - 0s 3ms/step - loss: 0.2775 - accuracy: 0.8607 - val_loss: 0.2328 - val_accuracy: 0.8996\n",
            "Epoch 54/70\n",
            "108/108 [==============================] - 0s 3ms/step - loss: 0.2743 - accuracy: 0.8714 - val_loss: 0.2721 - val_accuracy: 0.8765\n",
            "Epoch 55/70\n",
            "108/108 [==============================] - 0s 3ms/step - loss: 0.2779 - accuracy: 0.8691 - val_loss: 0.2654 - val_accuracy: 0.8833\n",
            "Epoch 56/70\n",
            "108/108 [==============================] - 0s 3ms/step - loss: 0.2820 - accuracy: 0.8601 - val_loss: 0.2355 - val_accuracy: 0.9009\n",
            "Epoch 57/70\n",
            "108/108 [==============================] - 0s 3ms/step - loss: 0.2738 - accuracy: 0.8679 - val_loss: 0.2660 - val_accuracy: 0.8718\n",
            "Epoch 58/70\n",
            "108/108 [==============================] - 0s 3ms/step - loss: 0.2734 - accuracy: 0.8679 - val_loss: 0.2362 - val_accuracy: 0.8935\n",
            "Epoch 59/70\n",
            "108/108 [==============================] - 0s 3ms/step - loss: 0.2696 - accuracy: 0.8735 - val_loss: 0.2292 - val_accuracy: 0.9009\n",
            "Epoch 60/70\n",
            "108/108 [==============================] - 0s 3ms/step - loss: 0.2748 - accuracy: 0.8691 - val_loss: 0.2181 - val_accuracy: 0.9064\n",
            "Epoch 61/70\n",
            "108/108 [==============================] - 0s 3ms/step - loss: 0.2684 - accuracy: 0.8711 - val_loss: 0.2362 - val_accuracy: 0.8962\n",
            "Epoch 62/70\n",
            "108/108 [==============================] - 0s 3ms/step - loss: 0.2694 - accuracy: 0.8659 - val_loss: 0.2661 - val_accuracy: 0.8752\n",
            "Epoch 63/70\n",
            "108/108 [==============================] - 0s 3ms/step - loss: 0.2742 - accuracy: 0.8706 - val_loss: 0.2752 - val_accuracy: 0.8772\n",
            "Epoch 64/70\n",
            "108/108 [==============================] - 0s 3ms/step - loss: 0.2758 - accuracy: 0.8758 - val_loss: 0.2699 - val_accuracy: 0.8731\n",
            "Epoch 65/70\n",
            "108/108 [==============================] - 0s 3ms/step - loss: 0.2737 - accuracy: 0.8688 - val_loss: 0.2456 - val_accuracy: 0.8894\n",
            "Epoch 66/70\n",
            "108/108 [==============================] - 0s 3ms/step - loss: 0.2699 - accuracy: 0.8679 - val_loss: 0.2350 - val_accuracy: 0.8948\n",
            "Epoch 67/70\n",
            "108/108 [==============================] - 0s 3ms/step - loss: 0.2761 - accuracy: 0.8703 - val_loss: 0.2363 - val_accuracy: 0.8982\n",
            "Epoch 68/70\n",
            "108/108 [==============================] - 0s 3ms/step - loss: 0.2674 - accuracy: 0.8749 - val_loss: 0.2596 - val_accuracy: 0.8881\n",
            "Epoch 69/70\n",
            "108/108 [==============================] - 0s 3ms/step - loss: 0.2687 - accuracy: 0.8784 - val_loss: 0.2439 - val_accuracy: 0.8915\n",
            "Epoch 70/70\n",
            "108/108 [==============================] - 0s 3ms/step - loss: 0.2654 - accuracy: 0.8717 - val_loss: 0.2496 - val_accuracy: 0.8915\n"
          ]
        }
      ]
    },
    {
      "cell_type": "code",
      "source": [
        "plt.plot(r.history[\"loss\"], label='loss')\n",
        "plt.plot(r.history[\"val_loss\"], label='Validation loss')\n",
        "plt.legend()"
      ],
      "metadata": {
        "colab": {
          "base_uri": "https://localhost:8080/",
          "height": 285
        },
        "id": "77RAUGU4PHw9",
        "outputId": "d4906086-0435-4de8-c63f-c51ceb694d9e"
      },
      "execution_count": null,
      "outputs": [
        {
          "output_type": "execute_result",
          "data": {
            "text/plain": [
              "<matplotlib.legend.Legend at 0x7eff18ecc5d0>"
            ]
          },
          "metadata": {},
          "execution_count": 101
        },
        {
          "output_type": "display_data",
          "data": {
            "text/plain": [
              "<Figure size 432x288 with 1 Axes>"
            ],
            "image/png": "[encoded data removed]"
          },
          "metadata": {
            "needs_background": "light"
          }
        }
      ]
    },
    {
      "cell_type": "code",
      "source": [
        "plt.plot(r.history[\"accuracy\"], label='Train accuracy')\n",
        "plt.plot(r.history[\"val_accuracy\"], label='Validation accuracy')\n",
        "plt.legend()"
      ],
      "metadata": {
        "colab": {
          "base_uri": "https://localhost:8080/",
          "height": 285
        },
        "id": "KppWNJCuVd-B",
        "outputId": "74b1bdab-c300-4d71-ae1b-b1fe753c4270"
      },
      "execution_count": null,
      "outputs": [
        {
          "output_type": "execute_result",
          "data": {
            "text/plain": [
              "<matplotlib.legend.Legend at 0x7eff17ac2450>"
            ]
          },
          "metadata": {},
          "execution_count": 102
        },
        {
          "output_type": "display_data",
          "data": {
            "text/plain": [
              "<Figure size 432x288 with 1 Axes>"
            ],
            "image/png": "[encoded data removed]"
          },
          "metadata": {
            "needs_background": "light"
          }
        }
      ]
    },
    {
      "cell_type": "code",
      "source": [
        "model.evaluate(X_train_scaled_strip, Y_train_strip)\n",
        "\n",
        "\n",
        "preds = model.predict(X_train_scaled_strip)\n",
        "\n",
        "th = 0.1\n",
        "classes = np.copy(preds)\n",
        "\n",
        "classes[preds > th] = 1\n",
        "classes[preds <= th] = 0\n",
        "\n",
        "cm = confusion_matrix(Y_train_strip, classes)\n",
        "cm"
      ],
      "metadata": {
        "colab": {
          "base_uri": "https://localhost:8080/"
        },
        "id": "5h7nN6I1dx8I",
        "outputId": "9a002942-265e-4906-96c5-ee8bf5e4e5aa"
      },
      "execution_count": null,
      "outputs": [
        {
          "output_type": "stream",
          "name": "stdout",
          "text": [
            "154/154 [==============================] - 0s 2ms/step - loss: 0.2346 - accuracy: 0.8927\n"
          ]
        },
        {
          "output_type": "execute_result",
          "data": {
            "text/plain": [
              "array([[ 528,  700],\n",
              "       [  26, 3658]])"
            ]
          },
          "metadata": {},
          "execution_count": 103
        }
      ]
    },
    {
      "cell_type": "markdown",
      "source": [
        "## TEST SET EVALUATION"
      ],
      "metadata": {
        "id": "-cYadNrRdpuu"
      }
    },
    {
      "cell_type": "code",
      "source": [
        "# Test\n",
        "preds = model.predict(X_test_scaled)\n",
        "\n",
        "th = 0.5\n",
        "classes = np.copy(preds)\n",
        "\n",
        "classes[preds > th] = 1\n",
        "classes[preds <= th] = 0\n",
        "\n",
        "cm = confusion_matrix(Y_test, classes)\n",
        "\n",
        "cmsum = np.sum(cm)\n",
        "\n",
        "acc = (cm[0, 0] + cm[1,1])/cmsum\n",
        "sen = (cm[0, 0])/(cm[0, 0] + cm[0, 1])\n",
        "spec = (cm[1, 1])/(cm[1, 0] + cm[1, 1])\n",
        "\n",
        "print(\"Accuracy: \", acc)\n",
        "print(\"Sensitivity: \", sen)\n",
        "print(\"Specificity: \", spec)"
      ],
      "metadata": {
        "colab": {
          "base_uri": "https://localhost:8080/"
        },
        "id": "T8dW2o3KRFdt",
        "outputId": "2f481497-ee48-4a25-e6a7-310730731e56"
      },
      "execution_count": null,
      "outputs": [
        {
          "output_type": "stream",
          "name": "stdout",
          "text": [
            "Accuracy:  0.9609040135082478\n",
            "Sensitivity:  0.0\n",
            "Specificity:  1.0\n"
          ]
        }
      ]
    },
    {
      "cell_type": "code",
      "source": [
        ""
      ],
      "metadata": {
        "id": "hEL_BDi1SHOH"
      },
      "execution_count": null,
      "outputs": []
    },
    {
      "cell_type": "code",
      "source": [
        "cm"
      ],
      "metadata": {
        "colab": {
          "base_uri": "https://localhost:8080/"
        },
        "id": "FO5v4o9dSO5e",
        "outputId": "ed87fe69-9349-4200-8c82-0ab11433f55c"
      },
      "execution_count": null,
      "outputs": [
        {
          "output_type": "execute_result",
          "data": {
            "text/plain": [
              "array([[   0,  301],\n",
              "       [   0, 7398]])"
            ]
          },
          "metadata": {},
          "execution_count": 106
        }
      ]
    },
    {
      "cell_type": "code",
      "source": [
        "model.evaluate(X_test_scaled, Y_test)"
      ],
      "metadata": {
        "colab": {
          "base_uri": "https://localhost:8080/"
        },
        "id": "7YONNYOLSV4_",
        "outputId": "9346a3b0-544b-410c-a554-721158c3930f"
      },
      "execution_count": null,
      "outputs": [
        {
          "output_type": "stream",
          "name": "stdout",
          "text": [
            "241/241 [==============================] - 0s 2ms/step - loss: 6.2552 - accuracy: 0.9609\n"
          ]
        },
        {
          "output_type": "execute_result",
          "data": {
            "text/plain": [
              "[6.255239009857178, 0.9609040021896362]"
            ]
          },
          "metadata": {},
          "execution_count": 107
        }
      ]
    },
    {
      "cell_type": "code",
      "source": [
        "np.any(preds < 1.)"
      ],
      "metadata": {
        "colab": {
          "base_uri": "https://localhost:8080/"
        },
        "id": "7tnWrJMraquP",
        "outputId": "59108f10-c5a4-4cce-e0fb-9c8a82949e87"
      },
      "execution_count": null,
      "outputs": [
        {
          "output_type": "execute_result",
          "data": {
            "text/plain": [
              "False"
            ]
          },
          "metadata": {},
          "execution_count": 73
        }
      ]
    },
    {
      "cell_type": "code",
      "source": [
        ""
      ],
      "metadata": {
        "id": "yD9En46BdOrU"
      },
      "execution_count": null,
      "outputs": []
    }
  ]
}